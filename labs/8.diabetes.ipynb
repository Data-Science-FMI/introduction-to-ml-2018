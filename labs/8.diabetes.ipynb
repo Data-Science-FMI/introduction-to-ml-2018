{
 "cells": [
  {
   "cell_type": "markdown",
   "metadata": {},
   "source": [
    "Pima Indians Diabetes Data Set https://archive.ics.uci.edu/ml/datasets/pima+indians+diabetes\n",
    "\n",
    "> This dataset is originally from the National Institute of Diabetes and Digestive and Kidney Diseases. The objective is to predict based on diagnostic measurements whether a patient has diabetes.\n",
    "\n",
    "# Load the data"
   ]
  },
  {
   "cell_type": "code",
   "execution_count": 1,
   "metadata": {
    "scrolled": false
   },
   "outputs": [
    {
     "name": "stdout",
     "output_type": "stream",
     "text": [
      "torch.Size([759, 8])\n",
      "torch.Size([759, 1])\n"
     ]
    }
   ],
   "source": [
    "import torch\n",
    "from torch.autograd import Variable\n",
    "import numpy as np\n",
    "\n",
    "xy = np.loadtxt('./data/diabetes.csv.gz', delimiter=',', dtype=np.float32)\n",
    "x_data = Variable(torch.from_numpy(xy[:, 0:-1]))\n",
    "y_data = Variable(torch.from_numpy(xy[:, [-1]]).long())\n",
    "\n",
    "print(x_data.shape)\n",
    "print(y_data.shape)"
   ]
  },
  {
   "cell_type": "markdown",
   "metadata": {},
   "source": [
    "# Processing"
   ]
  },
  {
   "cell_type": "code",
   "execution_count": 2,
   "metadata": {},
   "outputs": [],
   "source": [
    "y_data = y_data.view(-1)"
   ]
  },
  {
   "cell_type": "code",
   "execution_count": 3,
   "metadata": {},
   "outputs": [
    {
     "data": {
      "text/plain": [
       "torch.Size([759])"
      ]
     },
     "execution_count": 3,
     "metadata": {},
     "output_type": "execute_result"
    }
   ],
   "source": [
    "y_data.shape"
   ]
  },
  {
   "cell_type": "markdown",
   "metadata": {},
   "source": [
    "# Define our Model"
   ]
  },
  {
   "cell_type": "code",
   "execution_count": 4,
   "metadata": {},
   "outputs": [],
   "source": [
    "class Model(torch.nn.Module):\n",
    "\n",
    "    def __init__(self):\n",
    "        super(Model, self).__init__()\n",
    "        self.linear = torch.nn.Linear(8, 2)\n",
    "\n",
    "    def forward(self, x):\n",
    "        return self.linear(x)"
   ]
  },
  {
   "cell_type": "markdown",
   "metadata": {},
   "source": [
    "# Choosing loss function"
   ]
  },
  {
   "cell_type": "code",
   "execution_count": 15,
   "metadata": {},
   "outputs": [],
   "source": [
    "model = Model()\n",
    "\n",
    "criterion = torch.nn.CrossEntropyLoss()  \n",
    "optimizer = torch.optim.Adam(model.parameters(), lr=0.5)"
   ]
  },
  {
   "cell_type": "markdown",
   "metadata": {},
   "source": [
    "# Training"
   ]
  },
  {
   "cell_type": "code",
   "execution_count": 16,
   "metadata": {
    "scrolled": false
   },
   "outputs": [
    {
     "name": "stdout",
     "output_type": "stream",
     "text": [
      "0 0.7542444467544556\n",
      "1 1.0244942903518677\n",
      "2 0.689083993434906\n",
      "3 0.49508264660835266\n",
      "4 0.6897737979888916\n",
      "5 0.6312469840049744\n",
      "6 0.5149642825126648\n",
      "7 0.5219032764434814\n",
      "8 0.5844190716743469\n",
      "9 0.612652599811554\n",
      "10 0.58778315782547\n",
      "11 0.5407333970069885\n",
      "12 0.5150662064552307\n",
      "13 0.5295294523239136\n",
      "14 0.5553098320960999\n",
      "15 0.5499087572097778\n",
      "16 0.5162957310676575\n",
      "17 0.49313411116600037\n",
      "18 0.49926066398620605\n",
      "19 0.5161435008049011\n",
      "20 0.5178928971290588\n",
      "21 0.5010848641395569\n",
      "22 0.48641473054885864\n",
      "23 0.49276772141456604\n",
      "24 0.5067088007926941\n",
      "25 0.5015333294868469\n",
      "26 0.48499178886413574\n",
      "27 0.4813878834247589\n",
      "28 0.4887852668762207\n",
      "29 0.4892122149467468\n",
      "30 0.47930657863616943\n",
      "31 0.47265684604644775\n",
      "32 0.4772687554359436\n",
      "33 0.4824092388153076\n",
      "34 0.47862493991851807\n",
      "35 0.4739549160003662\n",
      "36 0.4764346778392792\n",
      "37 0.48063552379608154\n",
      "38 0.47928157448768616\n",
      "39 0.47500982880592346\n",
      "40 0.4747641086578369\n",
      "41 0.4774622321128845\n",
      "42 0.4765760600566864\n",
      "43 0.4732886850833893\n",
      "44 0.4733111262321472\n",
      "45 0.4753338694572449\n",
      "46 0.47477349638938904\n",
      "47 0.4727638065814972\n",
      "48 0.4730850160121918\n",
      "49 0.4743591547012329\n",
      "50 0.47342705726623535\n",
      "51 0.4720737636089325\n",
      "52 0.4725671410560608\n",
      "53 0.4731755256652832\n",
      "54 0.47241923213005066\n",
      "55 0.47184452414512634\n",
      "56 0.4724830389022827\n",
      "57 0.47286033630371094\n",
      "58 0.4722987115383148\n",
      "59 0.4720970392227173\n",
      "60 0.47254419326782227\n",
      "61 0.4725363254547119\n",
      "62 0.4720243513584137\n",
      "63 0.47196221351623535\n",
      "64 0.47223100066185\n",
      "65 0.47205397486686707\n",
      "66 0.47176066040992737\n",
      "67 0.4719090759754181\n",
      "68 0.4720441997051239\n",
      "69 0.4718336760997772\n",
      "70 0.471756249666214\n",
      "71 0.4719182252883911\n",
      "72 0.4718720018863678\n",
      "73 0.4717141091823578\n",
      "74 0.47178012132644653\n",
      "75 0.47185418009757996\n",
      "76 0.4717535972595215\n",
      "77 0.4717315435409546\n",
      "78 0.47182169556617737\n",
      "79 0.47179263830184937\n",
      "80 0.47172021865844727\n",
      "81 0.4717564582824707\n",
      "82 0.4717686176300049\n",
      "83 0.4717002809047699\n",
      "84 0.47169429063796997\n",
      "85 0.471728652715683\n",
      "86 0.4716978967189789\n",
      "87 0.4716772735118866\n",
      "88 0.4717106521129608\n",
      "89 0.4717080593109131\n",
      "90 0.4716828763484955\n",
      "91 0.47169873118400574\n",
      "92 0.4717073142528534\n",
      "93 0.47168418765068054\n",
      "94 0.47168564796447754\n",
      "95 0.4716978967189789\n",
      "96 0.4716835021972656\n",
      "97 0.47167855501174927\n",
      "98 0.47168901562690735\n",
      "99 0.4716818928718567\n"
     ]
    }
   ],
   "source": [
    "for epoch in range(100):\n",
    "    \n",
    "    y_pred = model(x_data)\n",
    "\n",
    "    loss = criterion(y_pred, y_data)\n",
    "    print(epoch, loss.data[0])\n",
    "\n",
    "    optimizer.zero_grad()\n",
    "    loss.backward()\n",
    "    optimizer.step()"
   ]
  }
 ],
 "metadata": {
  "kernelspec": {
   "display_name": "Python 3",
   "language": "python",
   "name": "python3"
  },
  "language_info": {
   "codemirror_mode": {
    "name": "ipython",
    "version": 3
   },
   "file_extension": ".py",
   "mimetype": "text/x-python",
   "name": "python",
   "nbconvert_exporter": "python",
   "pygments_lexer": "ipython3",
   "version": "3.6.3"
  }
 },
 "nbformat": 4,
 "nbformat_minor": 2
}
