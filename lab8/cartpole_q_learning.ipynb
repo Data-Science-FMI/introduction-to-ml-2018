{
  "nbformat": 4,
  "nbformat_minor": 0,
  "metadata": {
    "colab": {
      "name": "cartpole_q_learning_solution.ipynb",
      "version": "0.3.2",
      "views": {},
      "default_view": {},
      "provenance": [
        {
          "file_id": "1VgtXv3VZ6nY_WX-XMd6qIp6kG2KqNq4s",
          "timestamp": 1519917176961
        },
        {
          "file_id": "1VeMVziETMpjpDpBfi8FX484sbPpWFAxK",
          "timestamp": 1519913348452
        },
        {
          "file_id": "1jJNxUvPOeIYlXlv8B29bDzrrFxs5TvwP",
          "timestamp": 1519892945814
        }
      ],
      "collapsed_sections": []
    },
    "kernelspec": {
      "language": "python",
      "name": "python3",
      "display_name": "Python 3"
    },
    "accelerator": "GPU"
  },
  "cells": [
    {
      "metadata": {
        "id": "74hqH7vC7whf",
        "colab_type": "text"
      },
      "cell_type": "markdown",
      "source": [
        "Can we go from this:\n",
        "\n",
        "![CartPole balancing random](https://cdn-images-1.medium.com/max/800/1*ohWngM-PVYmDG9KVpOm_xQ.gif)\n",
        "\n",
        "to this:\n",
        "\n",
        "![CartPole balancing solved](https://cdn-images-1.medium.com/max/800/1*oMSg2_mKguAGKy1C64UFlw.gif)\n",
        "\n",
        "using Deep Learning?\n",
        "\n",
        "We're gonna use [OpenAI's Gym](https://gym.openai.com/):\n",
        "\n",
        "> Gym is a toolkit for developing and comparing reinforcement learning algorithms. It supports teaching agents everything from walking to playing games like Pong or Pinball.\n",
        "\n",
        "Concretely, we will use the [CartPole environment](https://gym.openai.com/envs/CartPole-v0/) first described by [Barto, Sutton, and Anderson 83](http://ieeexplore.ieee.org/document/6313077/).\n",
        "\n",
        "## What is the objective of CartPole?\n",
        "\n",
        "> A pole is attached by an un-actuated joint to a cart, which moves along a frictionless track. The system is controlled by applying a force of +1 or -1 to the cart. The pendulum starts upright, and the goal is to prevent it from falling over. A reward of +1 is provided for every timestep that the pole remains upright. The episode ends when the pole is more than 15 degrees from vertical, or the cart moves more than 2.4 units from the center.\n",
        "\n",
        "Gym defines CartPole as **solved** as getting average reward of 195.0 over 100 consecutive trials.\n",
        "\n",
        "## Try it yourself\n",
        "\n",
        "[Online Pole Balancer](https://richard-towers.com/poleBalancer/)"
      ]
    },
    {
      "metadata": {
        "id": "zQDEd4Qk4XZT",
        "colab_type": "text"
      },
      "cell_type": "markdown",
      "source": [
        "# Setup"
      ]
    },
    {
      "metadata": {
        "id": "oQZBwcooyy2U",
        "colab_type": "code",
        "colab": {
          "autoexec": {
            "startup": false,
            "wait_interval": 0
          },
          "output_extras": [
            {
              "item_id": 1
            }
          ],
          "base_uri": "https://localhost:8080/",
          "height": 35
        },
        "outputId": "41f53777-8bd7-49de-e68a-0e2d9bebf5b2",
        "executionInfo": {
          "status": "ok",
          "timestamp": 1519930006578,
          "user_tz": -120,
          "elapsed": 3950,
          "user": {
            "displayName": "Venelin Valkov",
            "photoUrl": "https://lh3.googleusercontent.com/a/default-user=s128",
            "userId": "102036666270843493239"
          }
        }
      },
      "cell_type": "code",
      "source": [
        "!pip install --upgrade seaborn\n",
        "\n",
        "# http://pytorch.org/\n",
        "from os import path\n",
        "from wheel.pep425tags import get_abbr_impl, get_impl_ver, get_abi_tag\n",
        "platform = '{}{}-{}'.format(get_abbr_impl(), get_impl_ver(), get_abi_tag())\n",
        "\n",
        "accelerator = 'cu80' if path.exists('/opt/bin/nvidia-smi') else 'cpu'\n",
        "\n",
        "!pip install -q http://download.pytorch.org/whl/{accelerator}/torch-0.3.0.post4-{platform}-linux_x86_64.whl torchvision\n",
        "import torch"
      ],
      "execution_count": 1,
      "outputs": [
        {
          "output_type": "stream",
          "text": [
            "Requirement already up-to-date: seaborn in /usr/local/lib/python3.6/dist-packages\r\n"
          ],
          "name": "stdout"
        }
      ]
    },
    {
      "metadata": {
        "id": "KDxdLykEyx1L",
        "colab_type": "code",
        "colab": {
          "autoexec": {
            "startup": false,
            "wait_interval": 0
          },
          "output_extras": [
            {
              "item_id": 4
            }
          ],
          "base_uri": "https://localhost:8080/",
          "height": 269
        },
        "outputId": "6fdd9ca6-b8ce-41ad-fa9f-ffd02d68c92e",
        "executionInfo": {
          "status": "ok",
          "timestamp": 1519930008504,
          "user_tz": -120,
          "elapsed": 1905,
          "user": {
            "displayName": "Venelin Valkov",
            "photoUrl": "https://lh3.googleusercontent.com/a/default-user=s128",
            "userId": "102036666270843493239"
          }
        }
      },
      "cell_type": "code",
      "source": [
        "!apt-get install -y cmake zlib1g-dev libjpeg-dev xvfb libav-tools xorg-dev python-opengl libboost-all-dev libsdl2-dev swig"
      ],
      "execution_count": 2,
      "outputs": [
        {
          "output_type": "stream",
          "text": [
            "Reading package lists... Done\n",
            "Building dependency tree       \n",
            "Reading state information... Done\n",
            "cmake is already the newest version (3.9.1-1).\n",
            "libjpeg-dev is already the newest version (8c-2ubuntu8).\n",
            "xorg-dev is already the newest version (1:7.7+19ubuntu3).\n",
            "zlib1g-dev is already the newest version (1:1.2.11.dfsg-0ubuntu2).\n",
            "libav-tools is already the newest version (7:3.3.4-2).\n",
            "libboost-all-dev is already the newest version (1.62.0.1).\n",
            "libsdl2-dev is already the newest version (2.0.6+dfsg1-3ubuntu1).\n",
            "python-opengl is already the newest version (3.1.0+dfsg-1).\n",
            "swig is already the newest version (3.0.10-1.2).\n",
            "xvfb is already the newest version (2:1.19.5-0ubuntu2).\n",
            "0 upgraded, 0 newly installed, 0 to remove and 1 not upgraded.\n"
          ],
          "name": "stdout"
        }
      ]
    },
    {
      "metadata": {
        "id": "iL4iPBY4zAFC",
        "colab_type": "code",
        "colab": {
          "autoexec": {
            "startup": false,
            "wait_interval": 0
          },
          "output_extras": [
            {
              "item_id": 1
            }
          ],
          "base_uri": "https://localhost:8080/",
          "height": 53
        },
        "outputId": "2ceb6ce6-60f8-4758-c6bb-a50aa3f0c568",
        "executionInfo": {
          "status": "ok",
          "timestamp": 1519930010744,
          "user_tz": -120,
          "elapsed": 2221,
          "user": {
            "displayName": "Venelin Valkov",
            "photoUrl": "https://lh3.googleusercontent.com/a/default-user=s128",
            "userId": "102036666270843493239"
          }
        }
      },
      "cell_type": "code",
      "source": [
        "!pip install pyvirtualdisplay\n"
      ],
      "execution_count": 3,
      "outputs": [
        {
          "output_type": "stream",
          "text": [
            "Requirement already satisfied: pyvirtualdisplay in /usr/local/lib/python3.6/dist-packages\r\n",
            "Requirement already satisfied: EasyProcess in /usr/local/lib/python3.6/dist-packages (from pyvirtualdisplay)\r\n"
          ],
          "name": "stdout"
        }
      ]
    },
    {
      "metadata": {
        "id": "VF6a47qDzCZ6",
        "colab_type": "code",
        "colab": {
          "autoexec": {
            "startup": false,
            "wait_interval": 0
          },
          "output_extras": [
            {
              "item_id": 1
            }
          ],
          "base_uri": "https://localhost:8080/",
          "height": 55
        },
        "outputId": "7cca32b6-6783-4da7-ef8a-0a1b3e4c3a3c",
        "executionInfo": {
          "status": "ok",
          "timestamp": 1519930011331,
          "user_tz": -120,
          "elapsed": 564,
          "user": {
            "displayName": "Venelin Valkov",
            "photoUrl": "https://lh3.googleusercontent.com/a/default-user=s128",
            "userId": "102036666270843493239"
          }
        }
      },
      "cell_type": "code",
      "source": [
        "from pyvirtualdisplay import Display\n",
        "display = Display(visible=0, size=(1400, 900))\n",
        "display.start()"
      ],
      "execution_count": 4,
      "outputs": [
        {
          "output_type": "execute_result",
          "data": {
            "text/plain": [
              "<Display cmd_param=['Xvfb', '-br', '-nolisten', 'tcp', '-screen', '0', '1400x900x24', ':1001'] cmd=['Xvfb', '-br', '-nolisten', 'tcp', '-screen', '0', '1400x900x24', ':1001'] oserror=None return_code=None stdout=\"None\" stderr=\"None\" timeout_happened=False>"
            ]
          },
          "metadata": {
            "tags": []
          },
          "execution_count": 4
        }
      ]
    },
    {
      "metadata": {
        "id": "BoXrD42L20Tw",
        "colab_type": "code",
        "colab": {
          "autoexec": {
            "startup": false,
            "wait_interval": 0
          },
          "output_extras": [
            {
              "item_id": 2
            }
          ],
          "base_uri": "https://localhost:8080/",
          "height": 271
        },
        "outputId": "e072736a-f435-4155-d738-87a0c0b3a187",
        "executionInfo": {
          "status": "ok",
          "timestamp": 1519930013414,
          "user_tz": -120,
          "elapsed": 1993,
          "user": {
            "displayName": "Venelin Valkov",
            "photoUrl": "https://lh3.googleusercontent.com/a/default-user=s128",
            "userId": "102036666270843493239"
          }
        }
      },
      "cell_type": "code",
      "source": [
        "!pip install gym[atari]"
      ],
      "execution_count": 5,
      "outputs": [
        {
          "output_type": "stream",
          "text": [
            "Requirement already satisfied: gym[atari] in /usr/local/lib/python3.6/dist-packages\n",
            "Requirement already satisfied: pyglet>=1.2.0 in /usr/local/lib/python3.6/dist-packages (from gym[atari])\n",
            "Requirement already satisfied: numpy>=1.10.4 in /usr/local/lib/python3.6/dist-packages (from gym[atari])\n",
            "Requirement already satisfied: requests>=2.0 in /usr/local/lib/python3.6/dist-packages (from gym[atari])\n",
            "Requirement already satisfied: six in /usr/local/lib/python3.6/dist-packages (from gym[atari])\n",
            "Requirement already satisfied: PyOpenGL; extra == \"atari\" in /usr/local/lib/python3.6/dist-packages (from gym[atari])\n",
            "Requirement already satisfied: Pillow; extra == \"atari\" in /usr/local/lib/python3.6/dist-packages (from gym[atari])\n",
            "Requirement already satisfied: atari-py>=0.1.1; extra == \"atari\" in /usr/local/lib/python3.6/dist-packages (from gym[atari])\n",
            "Requirement already satisfied: future in /usr/local/lib/python3.6/dist-packages (from pyglet>=1.2.0->gym[atari])\n",
            "Requirement already satisfied: urllib3<1.23,>=1.21.1 in /usr/local/lib/python3.6/dist-packages (from requests>=2.0->gym[atari])\n",
            "Requirement already satisfied: idna<2.7,>=2.5 in /usr/local/lib/python3.6/dist-packages (from requests>=2.0->gym[atari])\n",
            "Requirement already satisfied: certifi>=2017.4.17 in /usr/local/lib/python3.6/dist-packages (from requests>=2.0->gym[atari])\n",
            "Requirement already satisfied: chardet<3.1.0,>=3.0.2 in /usr/local/lib/python3.6/dist-packages (from requests>=2.0->gym[atari])\n"
          ],
          "name": "stdout"
        }
      ]
    },
    {
      "metadata": {
        "id": "Xka0q8U9F8zb",
        "colab_type": "code",
        "colab": {
          "autoexec": {
            "startup": false,
            "wait_interval": 0
          }
        }
      },
      "cell_type": "code",
      "source": [
        "import gym\n",
        "import math\n",
        "import random\n",
        "import numpy as np\n",
        "import matplotlib\n",
        "import matplotlib.pyplot as plt\n",
        "from matplotlib import animation, rc\n",
        "from collections import namedtuple, deque\n",
        "from itertools import count\n",
        "from copy import deepcopy\n",
        "from PIL import Image\n",
        "import seaborn as sns\n",
        "\n",
        "import torch\n",
        "import torch.nn as nn\n",
        "import torch.optim as optim\n",
        "import torch.nn.functional as F\n",
        "from torch.autograd import Variable\n",
        "import torchvision.transforms as T\n",
        "from google.colab import files\n",
        "from types import SimpleNamespace\n",
        "\n",
        "\n",
        "%matplotlib inline\n",
        "%config InlineBackend.figure_format = 'retina'\n",
        "\n",
        "flatui = [\"#9b59b6\", \"#3498db\", \"#95a5a6\", \"#e74c3c\", \"#34495e\", \"#2ecc71\"]\n",
        "\n",
        "\n",
        "sns.set(style='whitegrid', palette='colorblind', font_scale=1.5)\n",
        "\n",
        "def save_animation(frames, filename=\"balance\"):\n",
        "  plt.figure(figsize=(frames[0].shape[1] / 72.0, frames[0].shape[0] / 72.0), dpi = 72)\n",
        "  patch = plt.imshow(frames[0])\n",
        "  plt.axis('off')\n",
        "\n",
        "  def animate(i):\n",
        "      patch.set_data(frames[i])\n",
        "\n",
        "  anim = animation.FuncAnimation(plt.gcf(), animate, frames = len(frames), interval=50)\n",
        "  anim.save(f'{filename}.mp4', codec='h264')"
      ],
      "execution_count": 0,
      "outputs": []
    },
    {
      "metadata": {
        "id": "iqtEjbEiB8iF",
        "colab_type": "text"
      },
      "cell_type": "markdown",
      "source": [
        "# Hitting the Gym\n",
        "\n",
        "Let's start by creating an environment and get to know what Gym can do for us.\n",
        "\n",
        "## Creating environment"
      ]
    },
    {
      "metadata": {
        "id": "iiqQiTp6Cl8-",
        "colab_type": "code",
        "colab": {
          "autoexec": {
            "startup": false,
            "wait_interval": 0
          },
          "output_extras": [
            {
              "item_id": 1
            },
            {
              "item_id": 2
            }
          ],
          "base_uri": "https://localhost:8080/",
          "height": 53
        },
        "outputId": "f010230c-8db7-486d-b0b0-952aa459a089",
        "executionInfo": {
          "status": "ok",
          "timestamp": 1519930014952,
          "user_tz": -120,
          "elapsed": 650,
          "user": {
            "displayName": "Venelin Valkov",
            "photoUrl": "https://lh3.googleusercontent.com/a/default-user=s128",
            "userId": "102036666270843493239"
          }
        }
      },
      "cell_type": "code",
      "source": [
        "env = gym.make('CartPole-v0')\n",
        "env.reset()"
      ],
      "execution_count": 7,
      "outputs": [
        {
          "output_type": "stream",
          "text": [
            "\u001b[33mWARN: gym.spaces.Box autodetected dtype as <class 'numpy.float32'>. Please provide explicit dtype.\u001b[0m\n"
          ],
          "name": "stdout"
        },
        {
          "output_type": "execute_result",
          "data": {
            "text/plain": [
              "array([0.00915731, 0.02558982, 0.01087777, 0.03002529])"
            ]
          },
          "metadata": {
            "tags": []
          },
          "execution_count": 7
        }
      ]
    },
    {
      "metadata": {
        "id": "Ydugbx0PC28j",
        "colab_type": "text"
      },
      "cell_type": "markdown",
      "source": [
        "## Exploring the possible actions"
      ]
    },
    {
      "metadata": {
        "id": "lpn_n4mOC6bv",
        "colab_type": "code",
        "colab": {
          "autoexec": {
            "startup": false,
            "wait_interval": 0
          },
          "output_extras": [
            {
              "item_id": 1
            }
          ],
          "base_uri": "https://localhost:8080/",
          "height": 35
        },
        "outputId": "3f66b84f-ea40-4b00-ba8b-1217e180f453",
        "executionInfo": {
          "status": "ok",
          "timestamp": 1519930015538,
          "user_tz": -120,
          "elapsed": 473,
          "user": {
            "displayName": "Venelin Valkov",
            "photoUrl": "https://lh3.googleusercontent.com/a/default-user=s128",
            "userId": "102036666270843493239"
          }
        }
      },
      "cell_type": "code",
      "source": [
        "env.action_space"
      ],
      "execution_count": 8,
      "outputs": [
        {
          "output_type": "execute_result",
          "data": {
            "text/plain": [
              "Discrete(2)"
            ]
          },
          "metadata": {
            "tags": []
          },
          "execution_count": 8
        }
      ]
    },
    {
      "metadata": {
        "id": "aob-hI1YDnLE",
        "colab_type": "text"
      },
      "cell_type": "markdown",
      "source": [
        "## Acting in the environment"
      ]
    },
    {
      "metadata": {
        "id": "00xAuaPtDq8j",
        "colab_type": "code",
        "colab": {
          "autoexec": {
            "startup": false,
            "wait_interval": 0
          }
        }
      },
      "cell_type": "code",
      "source": [
        "random_action = env.action_space.sample()\n",
        "observation, reward, done, info = env.step(random_action)"
      ],
      "execution_count": 0,
      "outputs": []
    },
    {
      "metadata": {
        "id": "irniYGZ3EfD-",
        "colab_type": "text"
      },
      "cell_type": "markdown",
      "source": [
        "The observation vector gives us the following information:\n",
        "\n",
        "`[position of cart, velocity of cart, angle of pole, rotation rate of pole]`"
      ]
    },
    {
      "metadata": {
        "id": "CDt8FN2tEVu5",
        "colab_type": "code",
        "colab": {
          "autoexec": {
            "startup": false,
            "wait_interval": 0
          },
          "output_extras": [
            {
              "item_id": 1
            }
          ],
          "base_uri": "https://localhost:8080/",
          "height": 35
        },
        "outputId": "3ad405c7-c2e9-41b4-c941-948a0a9a2170",
        "executionInfo": {
          "status": "ok",
          "timestamp": 1519930016701,
          "user_tz": -120,
          "elapsed": 510,
          "user": {
            "displayName": "Venelin Valkov",
            "photoUrl": "https://lh3.googleusercontent.com/a/default-user=s128",
            "userId": "102036666270843493239"
          }
        }
      },
      "cell_type": "code",
      "source": [
        "observation"
      ],
      "execution_count": 10,
      "outputs": [
        {
          "output_type": "execute_result",
          "data": {
            "text/plain": [
              "array([ 0.0096691 , -0.16968643,  0.01147828,  0.32612033])"
            ]
          },
          "metadata": {
            "tags": []
          },
          "execution_count": 10
        }
      ]
    },
    {
      "metadata": {
        "id": "o5tDHwhoEXB6",
        "colab_type": "code",
        "colab": {
          "autoexec": {
            "startup": false,
            "wait_interval": 0
          },
          "output_extras": [
            {
              "item_id": 1
            }
          ],
          "base_uri": "https://localhost:8080/",
          "height": 35
        },
        "outputId": "bd051059-46fa-482c-e7f1-41c6d4f7501a",
        "executionInfo": {
          "status": "ok",
          "timestamp": 1519930017278,
          "user_tz": -120,
          "elapsed": 486,
          "user": {
            "displayName": "Venelin Valkov",
            "photoUrl": "https://lh3.googleusercontent.com/a/default-user=s128",
            "userId": "102036666270843493239"
          }
        }
      },
      "cell_type": "code",
      "source": [
        "reward"
      ],
      "execution_count": 11,
      "outputs": [
        {
          "output_type": "execute_result",
          "data": {
            "text/plain": [
              "1.0"
            ]
          },
          "metadata": {
            "tags": []
          },
          "execution_count": 11
        }
      ]
    },
    {
      "metadata": {
        "id": "fTEf23fBFggq",
        "colab_type": "text"
      },
      "cell_type": "markdown",
      "source": [
        "## How about a sample of the environment?"
      ]
    },
    {
      "metadata": {
        "id": "YevKCX_JFkrr",
        "colab_type": "code",
        "colab": {
          "autoexec": {
            "startup": false,
            "wait_interval": 0
          },
          "output_extras": [
            {
              "item_id": 1
            },
            {
              "item_id": 2
            }
          ],
          "base_uri": "https://localhost:8080/",
          "height": 294
        },
        "outputId": "f98b947d-1816-470e-a215-c5147e67b51c",
        "executionInfo": {
          "status": "ok",
          "timestamp": 1519930018650,
          "user_tz": -120,
          "elapsed": 1282,
          "user": {
            "displayName": "Venelin Valkov",
            "photoUrl": "https://lh3.googleusercontent.com/a/default-user=s128",
            "userId": "102036666270843493239"
          }
        }
      },
      "cell_type": "code",
      "source": [
        "screen = env.render(mode='rgb_array')\n",
        "plt.imshow(screen, interpolation='none');\n",
        "print(screen.shape)"
      ],
      "execution_count": 12,
      "outputs": [
        {
          "output_type": "stream",
          "text": [
            "(400, 600, 3)\n"
          ],
          "name": "stdout"
        },
        {
          "output_type": "display_data",
          "data": {
            "image/png": "[encoded data removed]",
            "text/plain": [
              "<matplotlib.figure.Figure at 0x7fa01e60dc18>"
            ]
          },
          "metadata": {
            "tags": [],
            "image/png": {
              "width": 376,
              "height": 258
            }
          }
        }
      ]
    },
    {
      "metadata": {
        "id": "FBiZ9jlFIY7m",
        "colab_type": "text"
      },
      "cell_type": "markdown",
      "source": [
        "## Let's play couple of episodes"
      ]
    },
    {
      "metadata": {
        "id": "6hv3-f3uITdh",
        "colab_type": "code",
        "colab": {
          "autoexec": {
            "startup": false,
            "wait_interval": 0
          }
        }
      },
      "cell_type": "code",
      "source": [
        "frames = []\n",
        "for _ in range(10):\n",
        "  env.reset()\n",
        "  for t in count():\n",
        "    frames.append(env.render(mode = 'rgb_array'))\n",
        "    action = env.action_space.sample()\n",
        "    _, _, done, _ = env.step(action)\n",
        "    if done:\n",
        "      break"
      ],
      "execution_count": 0,
      "outputs": []
    },
    {
      "metadata": {
        "id": "hyhozbRNIw_r",
        "colab_type": "code",
        "colab": {
          "autoexec": {
            "startup": false,
            "wait_interval": 0
          },
          "output_extras": [
            {
              "item_id": 1
            }
          ],
          "base_uri": "https://localhost:8080/",
          "height": 361
        },
        "outputId": "14cd69eb-f4e4-4184-8d16-c1f59746d793",
        "executionInfo": {
          "status": "ok",
          "timestamp": 1519930025119,
          "user_tz": -120,
          "elapsed": 5330,
          "user": {
            "displayName": "Venelin Valkov",
            "photoUrl": "https://lh3.googleusercontent.com/a/default-user=s128",
            "userId": "102036666270843493239"
          }
        }
      },
      "cell_type": "code",
      "source": [
        "save_animation(frames)"
      ],
      "execution_count": 14,
      "outputs": [
        {
          "output_type": "display_data",
          "data": {
            "image/png": "[encoded data removed]",
            "text/plain": [
              "<matplotlib.figure.Figure at 0x7fa014ddc9e8>"
            ]
          },
          "metadata": {
            "tags": [],
            "image/png": {
              "width": 503,
              "height": 343
            }
          }
        }
      ]
    },
    {
      "metadata": {
        "id": "G4kGlEwAJSSG",
        "colab_type": "code",
        "colab": {
          "autoexec": {
            "startup": false,
            "wait_interval": 0
          },
          "output_extras": [
            {
              "item_id": 1
            }
          ],
          "base_uri": "https://localhost:8080/",
          "height": 35
        },
        "outputId": "9f0ce76a-f4e7-4739-93e3-831e0030539d",
        "executionInfo": {
          "status": "ok",
          "timestamp": 1519930025925,
          "user_tz": -120,
          "elapsed": 786,
          "user": {
            "displayName": "Venelin Valkov",
            "photoUrl": "https://lh3.googleusercontent.com/a/default-user=s128",
            "userId": "102036666270843493239"
          }
        }
      },
      "cell_type": "code",
      "source": [
        "!ls"
      ],
      "execution_count": 15,
      "outputs": [
        {
          "output_type": "stream",
          "text": [
            "balance.mp4  datalab\r\n"
          ],
          "name": "stdout"
        }
      ]
    },
    {
      "metadata": {
        "id": "i_-OkUraJUmq",
        "colab_type": "code",
        "colab": {
          "autoexec": {
            "startup": false,
            "wait_interval": 0
          }
        }
      },
      "cell_type": "code",
      "source": [
        "files.download(\"balance.mp4\")"
      ],
      "execution_count": 0,
      "outputs": []
    },
    {
      "metadata": {
        "id": "bkq7FgkgVEJH",
        "colab_type": "text"
      },
      "cell_type": "markdown",
      "source": [
        "# Experience replay\n",
        "\n",
        "We will store transitions of state $s$ to state $s'$ along with received reward $r$, chosen action $a$ and whether or not the episode is finished. The data will be used to improve the effectiveness of the learning process for our agent. "
      ]
    },
    {
      "metadata": {
        "id": "0qX_YS2oVicG",
        "colab_type": "code",
        "colab": {
          "autoexec": {
            "startup": false,
            "wait_interval": 0
          }
        }
      },
      "cell_type": "code",
      "source": [
        "Transition = namedtuple(\"Transition\",\n",
        "                        field_names=[\"state\", \"action\", \"reward\", \"next_state\", \"done\"])\n",
        "\n",
        "class ReplayMemory:\n",
        "  def __init__(self, capacity):\n",
        "    self.capacity = capacity\n",
        "    self.memory = []\n",
        "\n",
        "  def push(self, transition):\n",
        "    self.memory.append(transition)\n",
        "    if len(self.memory) > self.capacity:\n",
        "        del self.memory[0]\n",
        "\n",
        "  def sample(self, batch_size):\n",
        "    return random.sample(self.memory, batch_size)\n",
        "\n",
        "  def __len__(self):\n",
        "    return len(self.memory)      "
      ],
      "execution_count": 0,
      "outputs": []
    },
    {
      "metadata": {
        "id": "jQUznrFRV__O",
        "colab_type": "text"
      },
      "cell_type": "markdown",
      "source": [
        "# Model\n",
        "\n",
        "We will use a Deep Neural Network with 2 hidden layers that accepts observation from the environment and has 2 neurons (the number of actions) in the output layer:"
      ]
    },
    {
      "metadata": {
        "id": "Au9OsqQ-WMT0",
        "colab_type": "code",
        "colab": {
          "autoexec": {
            "startup": false,
            "wait_interval": 0
          }
        }
      },
      "cell_type": "code",
      "source": [
        "class DQN(nn.Module):\n",
        "  \n",
        "  def __init__(self, input_dim, output_dim, hidden_dim):\n",
        "\n",
        "    super().__init__()\n",
        "\n",
        "    self.fc1 = nn.Sequential(\n",
        "      nn.Linear(input_dim, hidden_dim),\n",
        "      nn.BatchNorm1d(hidden_dim),\n",
        "      nn.PReLU()\n",
        "    )\n",
        "\n",
        "    self.fc2 = nn.Sequential(\n",
        "      nn.Linear(hidden_dim, hidden_dim),\n",
        "      nn.BatchNorm1d(hidden_dim),\n",
        "      nn.PReLU()\n",
        "    )\n",
        "\n",
        "    self.out = nn.Linear(hidden_dim, output_dim)\n",
        "\n",
        "  def forward(self, x):\n",
        "\n",
        "    x = self.fc1(x)\n",
        "    x = self.fc2(x)\n",
        "    return self.out(x)"
      ],
      "execution_count": 0,
      "outputs": []
    },
    {
      "metadata": {
        "id": "04CRNab_Xgy-",
        "colab_type": "text"
      },
      "cell_type": "markdown",
      "source": [
        "Note that we use [PReLu](http://pytorch.org/docs/master/nn.html#torch.nn.PReLU) as activation function:\n",
        "\n",
        "![ReLu vs PReLu](https://qph.fs.quoracdn.net/main-qimg-c53738b46b0b4a46bb6253d874779cb3)"
      ]
    },
    {
      "metadata": {
        "id": "eqoUEG2NYNrY",
        "colab_type": "text"
      },
      "cell_type": "markdown",
      "source": [
        "# Agent\n",
        "\n",
        "Our agent will be responsible for choosing action given some state $s$"
      ]
    },
    {
      "metadata": {
        "id": "KPg0NzXNtDjC",
        "colab_type": "code",
        "colab": {
          "autoexec": {
            "startup": false,
            "wait_interval": 0
          }
        }
      },
      "cell_type": "code",
      "source": [
        "class Agent(object):\n",
        "\n",
        "  def __init__(self, input_dim, output_dim, hidden_dim):\n",
        "\n",
        "    self.dqn = DQN(input_dim, output_dim, hidden_dim)\n",
        "    self.input_dim = input_dim\n",
        "    self.output_dim = output_dim\n",
        "\n",
        "    self.loss_fn = nn.MSELoss()\n",
        "    self.optim = torch.optim.Adam(self.dqn.parameters())\n",
        "    self.replay_memory = ReplayMemory(Config.capacity)\n",
        "\n",
        "  def _to_variable(self, x):\n",
        "\n",
        "    return Variable(torch.Tensor(x))\n",
        "\n",
        "  def choose_action(self, states, eps = 0):\n",
        "\n",
        "      if np.random.rand() < eps:\n",
        "          return np.random.choice(self.output_dim)\n",
        "      else:\n",
        "          scores = self.q_val(states)\n",
        "          _, argmax = torch.max(scores.data, 1)\n",
        "          return int(argmax.numpy())\n",
        "\n",
        "  def q_val(self, states):\n",
        "\n",
        "    states = self._to_variable(states.reshape(-1, self.input_dim))\n",
        "    self.dqn.eval()\n",
        "    return self.dqn(states)\n",
        "\n",
        "  def train(self, Q_current, Q_expected):\n",
        "\n",
        "    self.dqn.train()\n",
        "    self.optim.zero_grad()\n",
        "    loss = self.loss_fn(Q_current, Q_expected)\n",
        "    loss.backward()\n",
        "    self.optim.step()\n",
        "\n",
        "    return loss\n",
        "\n",
        "  def learn(self, transition):\n",
        "\n",
        "    self.replay_memory.push(transition)\n",
        "    if len(self.replay_memory) < Config.batch_size:\n",
        "      return\n",
        "\n",
        "    minibatch = self.replay_memory.sample(Config.batch_size)\n",
        "\n",
        "    states = np.vstack([x.state for x in minibatch])\n",
        "    actions = np.array([x.action for x in minibatch])\n",
        "    rewards = np.array([x.reward for x in minibatch])\n",
        "    next_states = np.vstack([x.next_state for x in minibatch])\n",
        "    done = np.array([x.done for x in minibatch])\n",
        "\n",
        "    Q_current = self.q_val(states)\n",
        "    Q_expected = Q_current.clone().data.numpy()\n",
        "    Q_expected[np.arange(len(Q_expected)), actions] = rewards + Config.gamma * np.max(self.q_val(next_states).data.numpy(), axis=1) * ~done\n",
        "\n",
        "    return self.train(Q_current, self._to_variable(Q_expected))"
      ],
      "execution_count": 0,
      "outputs": []
    },
    {
      "metadata": {
        "id": "Xb3Y158f3Ykx",
        "colab_type": "text"
      },
      "cell_type": "markdown",
      "source": [
        "# Training"
      ]
    },
    {
      "metadata": {
        "id": "N3QNvH0x6HiO",
        "colab_type": "code",
        "colab": {
          "autoexec": {
            "startup": false,
            "wait_interval": 0
          }
        }
      },
      "cell_type": "code",
      "source": [
        "def run_episode(env, agent, eps, batch_size):\n",
        "  \n",
        "  state = env.reset()\n",
        "  done = False\n",
        "  total_reward = 0\n",
        "\n",
        "  while not done:\n",
        "\n",
        "    action = agent.choose_action(state, eps)\n",
        "    next_state, reward, done, info = env.step(action)\n",
        "\n",
        "    total_reward += reward\n",
        "\n",
        "    if done:\n",
        "        reward = -1\n",
        "\n",
        "    agent.learn(Transition(state, action, reward, next_state, done))\n",
        "\n",
        "    state = next_state\n",
        "\n",
        "  return total_reward"
      ],
      "execution_count": 0,
      "outputs": []
    },
    {
      "metadata": {
        "id": "UHiCkrA_uxRK",
        "colab_type": "code",
        "colab": {
          "autoexec": {
            "startup": false,
            "wait_interval": 0
          }
        }
      },
      "cell_type": "code",
      "source": [
        "def find_epsilon(episode, max_episode, min_eps):\n",
        "    \"\"\"Returns 𝜺-greedy\n",
        "    1.0---|\\\n",
        "          | \\\n",
        "          |  \\\n",
        "    min_e +---+------->\n",
        "              |\n",
        "              max_episode\n",
        "    Args:\n",
        "        episode: Current episode (0<= episode)\n",
        "        max_episode: After max episode, 𝜺 will be `min_eps`\n",
        "        min_eps: 𝜺 will never go below this value\n",
        "    \"\"\"\n",
        "\n",
        "    slope = (min_eps - 1.0) / max_episode\n",
        "    return max(slope * episode + 1.0, min_eps)"
      ],
      "execution_count": 0,
      "outputs": []
    },
    {
      "metadata": {
        "id": "N1lHTcN2Z6l-",
        "colab_type": "code",
        "colab": {
          "autoexec": {
            "startup": false,
            "wait_interval": 0
          },
          "output_extras": [
            {
              "item_id": 22
            }
          ],
          "base_uri": "https://localhost:8080/",
          "height": 467
        },
        "outputId": "647af320-4f4b-4c4f-fe08-95477b57d583",
        "executionInfo": {
          "status": "ok",
          "timestamp": 1519930244628,
          "user_tz": -120,
          "elapsed": 47959,
          "user": {
            "displayName": "Venelin Valkov",
            "photoUrl": "https://lh3.googleusercontent.com/a/default-user=s128",
            "userId": "102036666270843493239"
          }
        }
      },
      "cell_type": "code",
      "source": [
        "Config = dict(\n",
        "    gamma=0.99, \n",
        "    batch_size=64, \n",
        "    hidden_dim=12, \n",
        "    capacity=50000, \n",
        "    max_episode=50, \n",
        "    min_eps=0.01, \n",
        "    n_episode=1000\n",
        ")\n",
        "Config = SimpleNamespace(**Config)\n",
        "\n",
        "\n",
        "rewards = []\n",
        "agent = Agent(input_dim=4, output_dim=2, hidden_dim=Config.hidden_dim)\n",
        "\n",
        "for i in range(Config.n_episode):\n",
        "    eps = find_epsilon(i, Config.max_episode, Config.min_eps)\n",
        "    r = run_episode(env, agent, eps, Config.batch_size)\n",
        "    if i % 10 == 0:\n",
        "      print(\"[Episode: {:5}] Reward: {:5} 𝜺-greedy: {:5.2f}\".format(i + 1, r, eps))\n",
        "\n",
        "    rewards.append(r)\n",
        "\n",
        "    if len(rewards) >= 100:\n",
        "        \n",
        "        last_100 = rewards[-100:]\n",
        "        if np.mean(last_100) >= 195:\n",
        "            print(f\"Objective complete in {i + 1} episodes with mean reward {np.mean(last_100)}\")\n",
        "            break"
      ],
      "execution_count": 27,
      "outputs": [
        {
          "output_type": "stream",
          "text": [
            "[Episode:     1] Reward:   9.0 𝜺-greedy:  1.00\n",
            "[Episode:    11] Reward:  12.0 𝜺-greedy:  0.80\n",
            "[Episode:    21] Reward:  15.0 𝜺-greedy:  0.60\n",
            "[Episode:    31] Reward:  16.0 𝜺-greedy:  0.41\n",
            "[Episode:    41] Reward:   8.0 𝜺-greedy:  0.21\n",
            "[Episode:    51] Reward:   9.0 𝜺-greedy:  0.01\n",
            "[Episode:    61] Reward:  10.0 𝜺-greedy:  0.01\n",
            "[Episode:    71] Reward:   9.0 𝜺-greedy:  0.01\n",
            "[Episode:    81] Reward:   8.0 𝜺-greedy:  0.01\n",
            "[Episode:    91] Reward:   9.0 𝜺-greedy:  0.01\n",
            "[Episode:   101] Reward:  44.0 𝜺-greedy:  0.01\n",
            "[Episode:   111] Reward:  66.0 𝜺-greedy:  0.01\n",
            "[Episode:   121] Reward:  87.0 𝜺-greedy:  0.01\n",
            "[Episode:   131] Reward: 140.0 𝜺-greedy:  0.01\n",
            "[Episode:   141] Reward: 150.0 𝜺-greedy:  0.01\n",
            "[Episode:   151] Reward: 200.0 𝜺-greedy:  0.01\n",
            "[Episode:   161] Reward: 185.0 𝜺-greedy:  0.01\n",
            "[Episode:   171] Reward: 181.0 𝜺-greedy:  0.01\n",
            "[Episode:   181] Reward: 200.0 𝜺-greedy:  0.01\n",
            "[Episode:   191] Reward: 200.0 𝜺-greedy:  0.01\n",
            "[Episode:   201] Reward: 200.0 𝜺-greedy:  0.01\n",
            "[Episode:   211] Reward: 200.0 𝜺-greedy:  0.01\n",
            "[Episode:   221] Reward: 200.0 𝜺-greedy:  0.01\n",
            "[Episode:   231] Reward: 200.0 𝜺-greedy:  0.01\n",
            "Objective complete in 239 episodes with mean reward 195.27\n"
          ],
          "name": "stdout"
        }
      ]
    },
    {
      "metadata": {
        "id": "PoOzI9_T35KU",
        "colab_type": "text"
      },
      "cell_type": "markdown",
      "source": [
        "# Evaluation"
      ]
    },
    {
      "metadata": {
        "id": "M_gD3G-N377u",
        "colab_type": "code",
        "colab": {
          "autoexec": {
            "startup": false,
            "wait_interval": 0
          },
          "output_extras": [
            {
              "item_id": 1
            }
          ],
          "base_uri": "https://localhost:8080/",
          "height": 311
        },
        "outputId": "24edafcb-d4c6-4e57-a206-af876fef815d",
        "executionInfo": {
          "status": "ok",
          "timestamp": 1519930251338,
          "user_tz": -120,
          "elapsed": 1369,
          "user": {
            "displayName": "Venelin Valkov",
            "photoUrl": "https://lh3.googleusercontent.com/a/default-user=s128",
            "userId": "102036666270843493239"
          }
        }
      },
      "cell_type": "code",
      "source": [
        "plt.title('Reward obtained by our agent during training')\n",
        "plt.xlabel('Episode')\n",
        "plt.ylabel('Reward')\n",
        "plt.plot(rewards);"
      ],
      "execution_count": 28,
      "outputs": [
        {
          "output_type": "display_data",
          "data": {
            "image/png": "[encoded data removed]",
            "text/plain": [
              "<matplotlib.figure.Figure at 0x7fa012488278>"
            ]
          },
          "metadata": {
            "tags": [],
            "image/png": {
              "width": 444,
              "height": 293
            }
          }
        }
      ]
    },
    {
      "metadata": {
        "id": "eWvGbTy6prYG",
        "colab_type": "text"
      },
      "cell_type": "markdown",
      "source": [
        "## Can our trained Agent balance the pole?"
      ]
    },
    {
      "metadata": {
        "id": "EATGoyOWptjp",
        "colab_type": "code",
        "colab": {
          "autoexec": {
            "startup": false,
            "wait_interval": 0
          }
        }
      },
      "cell_type": "code",
      "source": [
        "frames = []\n",
        "for _ in range(10):\n",
        "  state = env.reset()\n",
        "  for t in count():\n",
        "      frames.append(env.render(mode = 'rgb_array'))\n",
        "      action = agent.choose_action(state)\n",
        "      state, _, done, _ = env.step(action)\n",
        "      if done:\n",
        "          break"
      ],
      "execution_count": 0,
      "outputs": []
    },
    {
      "metadata": {
        "id": "D_mL044Zp6l4",
        "colab_type": "code",
        "colab": {
          "autoexec": {
            "startup": false,
            "wait_interval": 0
          },
          "output_extras": [
            {
              "item_id": 1
            }
          ],
          "base_uri": "https://localhost:8080/",
          "height": 361
        },
        "outputId": "d7e8ca46-9419-460a-9108-8674b6a86254",
        "executionInfo": {
          "status": "ok",
          "timestamp": 1519930178733,
          "user_tz": -120,
          "elapsed": 3384,
          "user": {
            "displayName": "Venelin Valkov",
            "photoUrl": "https://lh3.googleusercontent.com/a/default-user=s128",
            "userId": "102036666270843493239"
          }
        }
      },
      "cell_type": "code",
      "source": [
        "save_animation(frames, \"balance_trained\")"
      ],
      "execution_count": 25,
      "outputs": [
        {
          "output_type": "display_data",
          "data": {
            "image/png": "[encoded data removed]",
            "text/plain": [
              "<matplotlib.figure.Figure at 0x7fa010890780>"
            ]
          },
          "metadata": {
            "tags": [],
            "image/png": {
              "width": 503,
              "height": 343
            }
          }
        }
      ]
    },
    {
      "metadata": {
        "id": "ZrIGFzJDrfaR",
        "colab_type": "code",
        "colab": {
          "autoexec": {
            "startup": false,
            "wait_interval": 0
          }
        }
      },
      "cell_type": "code",
      "source": [
        "files.download(\"balance_trained.mp4\")"
      ],
      "execution_count": 0,
      "outputs": []
    }
  ]
}