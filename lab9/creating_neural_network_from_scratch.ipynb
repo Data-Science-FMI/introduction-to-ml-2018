{
  "nbformat": 4,
  "nbformat_minor": 0,
  "metadata": {
    "colab": {
      "name": "creating_neural_network_from_scratch.ipynb",
      "version": "0.3.2",
      "views": {},
      "default_view": {},
      "provenance": [],
      "collapsed_sections": []
    },
    "kernelspec": {
      "name": "python3",
      "display_name": "Python 3"
    },
    "accelerator": "GPU"
  },
  "cells": [
    {
      "metadata": {
        "id": "Q62lyfsqwZZ5",
        "colab_type": "code",
        "colab": {
          "autoexec": {
            "startup": false,
            "wait_interval": 0
          },
          "output_extras": [
            {
              "item_id": 1
            }
          ],
          "base_uri": "https://localhost:8080/",
          "height": 35
        },
        "outputId": "cabce45b-41f6-40b1-bde9-ef701af25413",
        "executionInfo": {
          "status": "ok",
          "timestamp": 1520289610266,
          "user_tz": -120,
          "elapsed": 3376,
          "user": {
            "displayName": "Venelin Valkov",
            "photoUrl": "https://lh3.googleusercontent.com/a/default-user=s128",
            "userId": "102036666270843493239"
          }
        }
      },
      "cell_type": "code",
      "source": [
        "!pip install --upgrade seaborn"
      ],
      "execution_count": 1,
      "outputs": [
        {
          "output_type": "stream",
          "text": [
            "Requirement already up-to-date: seaborn in /usr/local/lib/python3.6/dist-packages\r\n"
          ],
          "name": "stdout"
        }
      ]
    },
    {
      "metadata": {
        "id": "_Cch04UHwzjA",
        "colab_type": "code",
        "colab": {
          "autoexec": {
            "startup": false,
            "wait_interval": 0
          }
        }
      },
      "cell_type": "code",
      "source": [
        "import struct\n",
        "\n",
        "import numpy as np\n",
        "import matplotlib\n",
        "import matplotlib.pyplot as plt\n",
        "import seaborn as sns\n",
        "from urllib import request\n",
        "from pylab import rcParams\n",
        "from scipy.special import expit\n",
        "\n",
        "\n",
        "%matplotlib inline\n",
        "%config InlineBackend.figure_format = 'retina'\n",
        "\n",
        "flatui = [\"#9b59b6\", \"#3498db\", \"#95a5a6\", \"#e74c3c\", \"#34495e\", \"#2ecc71\"]\n",
        "\n",
        "\n",
        "sns.set(style='whitegrid', palette='colorblind', font_scale=1.5)\n",
        "\n",
        "rcParams['figure.figsize'] = 12, 6\n",
        "\n",
        "RANDOM_SEED = 42\n",
        "\n",
        "np.random.seed(RANDOM_SEED)"
      ],
      "execution_count": 0,
      "outputs": []
    },
    {
      "metadata": {
        "id": "GiQZ5DB0yejm",
        "colab_type": "code",
        "colab": {
          "autoexec": {
            "startup": false,
            "wait_interval": 0
          },
          "output_extras": [
            {
              "item_id": 1
            }
          ],
          "base_uri": "https://localhost:8080/",
          "height": 35
        },
        "outputId": "f5d0339f-c2ff-4408-ddc5-7a142d93435c",
        "executionInfo": {
          "status": "ok",
          "timestamp": 1520289614294,
          "user_tz": -120,
          "elapsed": 1305,
          "user": {
            "displayName": "Venelin Valkov",
            "photoUrl": "https://lh3.googleusercontent.com/a/default-user=s128",
            "userId": "102036666270843493239"
          }
        }
      },
      "cell_type": "code",
      "source": [
        "!mkdir data"
      ],
      "execution_count": 3,
      "outputs": [
        {
          "output_type": "stream",
          "text": [
            "mkdir: cannot create directory ‘data’: File exists\r\n"
          ],
          "name": "stdout"
        }
      ]
    },
    {
      "metadata": {
        "id": "aBmc73pGw8Ef",
        "colab_type": "code",
        "colab": {
          "autoexec": {
            "startup": false,
            "wait_interval": 0
          }
        }
      },
      "cell_type": "code",
      "source": [
        "filenames = [\n",
        "\"train-images-idx3-ubyte.gz\",\n",
        "\"t10k-images-idx3-ubyte.gz\",\n",
        "\"train-labels-idx1-ubyte.gz\",\n",
        "\"t10k-labels-idx1-ubyte.gz\"\n",
        "]\n",
        "\n",
        "data_dir = \"data\"\n",
        "\n",
        "def download_mnist():\n",
        "    base_url = \"http://yann.lecun.com/exdb/mnist/\"\n",
        "    for f in filenames:\n",
        "        print(f\"Downloading {f}...\")\n",
        "        request.urlretrieve(base_url+f, f\"{data_dir}/{f}\")\n",
        "    print(\"Download complete.\")"
      ],
      "execution_count": 0,
      "outputs": []
    },
    {
      "metadata": {
        "id": "BUAlY4tPxNUU",
        "colab_type": "code",
        "colab": {
          "autoexec": {
            "startup": false,
            "wait_interval": 0
          },
          "output_extras": [
            {
              "item_id": 3
            }
          ],
          "base_uri": "https://localhost:8080/",
          "height": 107
        },
        "outputId": "611d23fc-b172-4fd2-e107-1cabf30595f2",
        "executionInfo": {
          "status": "ok",
          "timestamp": 1520289617397,
          "user_tz": -120,
          "elapsed": 2377,
          "user": {
            "displayName": "Venelin Valkov",
            "photoUrl": "https://lh3.googleusercontent.com/a/default-user=s128",
            "userId": "102036666270843493239"
          }
        }
      },
      "cell_type": "code",
      "source": [
        "download_mnist()"
      ],
      "execution_count": 5,
      "outputs": [
        {
          "output_type": "stream",
          "text": [
            "Downloading train-images-idx3-ubyte.gz...\n",
            "Downloading t10k-images-idx3-ubyte.gz...\n",
            "Downloading train-labels-idx1-ubyte.gz...\n",
            "Downloading t10k-labels-idx1-ubyte.gz...\n",
            "Download complete.\n"
          ],
          "name": "stdout"
        }
      ]
    },
    {
      "metadata": {
        "id": "fzhrPeXVxOJk",
        "colab_type": "code",
        "colab": {
          "autoexec": {
            "startup": false,
            "wait_interval": 0
          },
          "output_extras": [
            {
              "item_id": 1
            }
          ],
          "base_uri": "https://localhost:8080/",
          "height": 53
        },
        "outputId": "349cbee4-e260-4a4b-d3d1-30a913d6f95e",
        "executionInfo": {
          "status": "ok",
          "timestamp": 1520289618934,
          "user_tz": -120,
          "elapsed": 1518,
          "user": {
            "displayName": "Venelin Valkov",
            "photoUrl": "https://lh3.googleusercontent.com/a/default-user=s128",
            "userId": "102036666270843493239"
          }
        }
      },
      "cell_type": "code",
      "source": [
        "!ls data/"
      ],
      "execution_count": 6,
      "outputs": [
        {
          "output_type": "stream",
          "text": [
            "t10k-images-idx3-ubyte.gz  train-images-idx3-ubyte.gz\r\n",
            "t10k-labels-idx1-ubyte.gz  train-labels-idx1-ubyte.gz\r\n"
          ],
          "name": "stdout"
        }
      ]
    },
    {
      "metadata": {
        "id": "vtfcjyj2y_UT",
        "colab_type": "code",
        "colab": {
          "autoexec": {
            "startup": false,
            "wait_interval": 0
          }
        }
      },
      "cell_type": "code",
      "source": [
        "def read_mnist(images_path, labels_path):\n",
        "    \"\"\" Read the MNIST dataset from ubyte files \"\"\"\n",
        "    with open(labels_path, 'rb') as p:\n",
        "        magic, n = struct.unpack('>II', p.read(8))\n",
        "        labels = np.fromfile(p, dtype=np.uint8)\n",
        "    with open(images_path, 'rb') as p:\n",
        "        magic, num, rows, cols = struct.unpack(\">IIII\", p.read(16))\n",
        "        images = np.fromfile(p, dtype=np.uint8).reshape(len(labels), 784)\n",
        "\n",
        "    return images, labels"
      ],
      "execution_count": 0,
      "outputs": []
    },
    {
      "metadata": {
        "id": "1M7E6VkPzWGB",
        "colab_type": "code",
        "colab": {
          "autoexec": {
            "startup": false,
            "wait_interval": 0
          }
        }
      },
      "cell_type": "code",
      "source": [
        "def shuffle_data(features, labels, random_seed=None):\n",
        "    assert len(features) == len(labels)\n",
        "\n",
        "    if random_seed:\n",
        "        np.random.seed(random_seed)\n",
        "    idx = np.random.permutation(len(features))\n",
        "    return [a[idx] for a in [features, labels]]"
      ],
      "execution_count": 0,
      "outputs": []
    },
    {
      "metadata": {
        "id": "iW2qIiiI3SMj",
        "colab_type": "text"
      },
      "cell_type": "markdown",
      "source": [
        "# Background\n",
        "\n",
        "## The Sigmoid function\n",
        "\n",
        "The sigmoid function is used quite commonly in the realm of deep learning, at least it was until recently. It has distinct S shape and it is a differentiable real function for any real input value. Additionally, it has a positive derivative at each point. More importantly, we will use it as an activation function for the hidden layer of our model. Here's how it is defined:\n",
        "\n",
        "$$\\sigma (x) = \\frac{1}{1+e^{-x}}$$\n",
        "\n",
        "It’s first derivative (which we will use during the backpropagation step of our training algorithm) has the following formula:\n",
        "\n",
        "$$\\dfrac{d}{dx}\\sigma(x) = \\sigma(x)(1 - \\sigma(x))$$\n",
        "\n",
        "So, the derivative can be expressed using the original sigmoid function. Pretty cool, eh? Here is a more detailed derivation (thanks to [Mike Percy](https://math.stackexchange.com/a/1225116/)):\n",
        "\n",
        "$$\n",
        "\\begin{align}\n",
        "\\dfrac{d}{dx} \\sigma(x) &= \\dfrac{d}{dx} \\left[ \\dfrac{1}{1 + e^{-x}} \\right] \\\\\n",
        "&= \\dfrac{d}{dx} \\left( 1 + \\mathrm{e}^{-x} \\right)^{-1} \\\\\n",
        "&= -(1 + e^{-x})^{-2}(-e^{-x}) \\\\\n",
        "&= \\dfrac{e^{-x}}{\\left(1 + e^{-x}\\right)^2} \\\\\n",
        "&= \\dfrac{1}{1 + e^{-x}\\ } \\cdot \\dfrac{e^{-x}}{1 + e^{-x}}  \\\\\n",
        "&= \\dfrac{1}{1 + e^{-x}\\ } \\cdot \\dfrac{(1 + e^{-x}) - 1}{1 + e^{-x}}  \\\\\n",
        "&= \\dfrac{1}{1 + e^{-x}\\ } \\cdot \\left( \\dfrac{1 + e^{-x}}{1 + e^{-x}} - \\dfrac{1}{1 + e^{-x}} \\right) \\\\\n",
        "&= \\dfrac{1}{1 + e^{-x}\\ } \\cdot \\left( 1 - \\dfrac{1}{1 + e^{-x}} \\right) \\\\\n",
        "&= \\sigma(x) \\cdot (1 - \\sigma(x))\n",
        "\\end{align}\n",
        "$$\n",
        "\n",
        "Proof of why $\\dfrac{d}{dx}e^x = e^x$ can be found [here](https://www.khanacademy.org/math/in-in-grade-11-ncert/in-in-class11-differentiation/copy-of-sine-and-cosine-derivatives-ab/v/proof-of-derivative-of-ex). Don’t like formulas? Let’s look at a picture:\n",
        "\n"
      ]
    },
    {
      "metadata": {
        "id": "ljF4RJHGzZD5",
        "colab_type": "code",
        "colab": {
          "autoexec": {
            "startup": false,
            "wait_interval": 0
          }
        }
      },
      "cell_type": "code",
      "source": [
        "def sigmoid(z):\n",
        "    # return 1.0 / (1.0 + np.exp(-z))\n",
        "    return expit(z)\n",
        "\n",
        "\n",
        "def sigmoid_prime(z):\n",
        "    sg = sigmoid(z)\n",
        "    return sg * (1 - sg)"
      ],
      "execution_count": 0,
      "outputs": []
    },
    {
      "metadata": {
        "id": "6TIzQgNB0j9A",
        "colab_type": "code",
        "colab": {
          "autoexec": {
            "startup": false,
            "wait_interval": 0
          },
          "output_extras": [
            {
              "item_id": 1
            }
          ],
          "base_uri": "https://localhost:8080/",
          "height": 400
        },
        "outputId": "27f3fa46-f569-4176-b024-8dbf9cb98f05",
        "executionInfo": {
          "status": "ok",
          "timestamp": 1520289622107,
          "user_tz": -120,
          "elapsed": 1066,
          "user": {
            "displayName": "Venelin Valkov",
            "photoUrl": "https://lh3.googleusercontent.com/a/default-user=s128",
            "userId": "102036666270843493239"
          }
        }
      },
      "cell_type": "code",
      "source": [
        "x = np.linspace(-10., 10., num=100)\n",
        "sig = sigmoid(x)\n",
        "sig_prime = sigmoid_prime(x)\n",
        "\n",
        "plt.plot(x, sig, label=\"sigmoid\")\n",
        "plt.plot(x, sig_prime, label=\"sigmoid prime\")\n",
        "plt.xlabel(\"x\")\n",
        "plt.ylabel(\"y\")\n",
        "plt.legend(prop={'size' : 16})\n",
        "plt.show()"
      ],
      "execution_count": 10,
      "outputs": [
        {
          "output_type": "display_data",
          "data": {
            "image/png": "[encoded data removed]",
            "text/plain": [
              "<matplotlib.figure.Figure at 0x7f7fb639a978>"
            ]
          },
          "metadata": {
            "tags": [],
            "image/png": {
              "width": 735,
              "height": 382
            }
          }
        }
      ]
    },
    {
      "metadata": {
        "id": "T80eWLfh5_dm",
        "colab_type": "text"
      },
      "cell_type": "markdown",
      "source": [
        "The derivative shows us the rate of change of a function. We can use it to determine the “slope” of that function. The highest rate of change for the sigmoid function is when $x=0$, as it is evident from the derivative graph (in green).\n",
        "\n",
        "## Softmax\n",
        "\n",
        "The softmax function can be easily differentiated, it is pure (output depends only on input) and the elements of the resulting vector sum to 1. Here it is:\n",
        "\n",
        "$$\\sigma(z)_j = \\frac{e^{z_j}}{\\sum_{K}^{k=1}e^{z_k}} \\text{for}\\,j = 1,...,k$$\n",
        "\n",
        "In probability theory, the output of the softmax function is sometimes used as a representation of a categorical distribution. Let’s see an example result:"
      ]
    },
    {
      "metadata": {
        "id": "hvMday577CwR",
        "colab_type": "code",
        "colab": {
          "autoexec": {
            "startup": false,
            "wait_interval": 0
          }
        }
      },
      "cell_type": "code",
      "source": [
        "def softmax(z):\n",
        "    return (np.exp(z.T) / np.sum(np.exp(z), axis=1)).T"
      ],
      "execution_count": 0,
      "outputs": []
    },
    {
      "metadata": {
        "id": "9j4AFPt37l5e",
        "colab_type": "code",
        "colab": {
          "autoexec": {
            "startup": false,
            "wait_interval": 0
          },
          "output_extras": [
            {
              "item_id": 1
            }
          ],
          "base_uri": "https://localhost:8080/",
          "height": 35
        },
        "outputId": "5aad9858-e118-4beb-cbff-a1eb965d725c",
        "executionInfo": {
          "status": "ok",
          "timestamp": 1520289623554,
          "user_tz": -120,
          "elapsed": 585,
          "user": {
            "displayName": "Venelin Valkov",
            "photoUrl": "https://lh3.googleusercontent.com/a/default-user=s128",
            "userId": "102036666270843493239"
          }
        }
      },
      "cell_type": "code",
      "source": [
        "softmax(np.array([[2, 4, 6, 8]]))"
      ],
      "execution_count": 12,
      "outputs": [
        {
          "output_type": "execute_result",
          "data": {
            "text/plain": [
              "array([[0.00214401, 0.0158422 , 0.11705891, 0.86495488]])"
            ]
          },
          "metadata": {
            "tags": []
          },
          "execution_count": 12
        }
      ]
    },
    {
      "metadata": {
        "id": "izujslUo8nF7",
        "colab_type": "text"
      },
      "cell_type": "markdown",
      "source": [
        "The output has most of its weight corresponding to the input 8. The softmax function highlights the largest value(s) and suppresses the smaller ones.\n",
        "\n",
        "## Backpropagation\n",
        "\n",
        "Backpropagation is the backbone of almost anything we do when using Neural Networks. The algorithm consists of 3 subtasks:\n",
        "\n",
        "- Make a forward pass\n",
        "- Calculate the error\n",
        "- Make backward pass (backpropagation)\n",
        "\n",
        "In the first step, backprop uses the data and the weights of the network to compute a prediction. Next, the error is computed based on the prediction and the provided labels. The final step propagates the error through the network, starting from the final layer. Thus, the weights get updated based on the error, little by little."
      ]
    },
    {
      "metadata": {
        "id": "_hpUBnL9CBzR",
        "colab_type": "text"
      },
      "cell_type": "markdown",
      "source": [
        "# Learning the XOR function\n",
        "\n",
        "Let's try to create a Neural Network (NN) with 1 hidden layer that can properly predict values from the `XOR` function. Here is the truth table:\n",
        "\n",
        "| A \t| B \t| Output \t|\n",
        "|---\t|---\t|--------\t|\n",
        "| 0 \t| 0 \t| 0      \t|\n",
        "| 0 \t| 1 \t| 1      \t|\n",
        "| 1 \t| 0 \t| 1      \t|\n",
        "| 1 \t| 1 \t| 0      \t|\n",
        "\n",
        "Visually, we have:\n",
        "\n",
        "![XOR function](http://curiousily.com/assets/15.tensorflow_for_hackers_part_4_files/xor.png)\n",
        "\n",
        "## Data\n",
        "\n",
        "We will use the data from the truth table above and convert it to numpy arrays:"
      ]
    },
    {
      "metadata": {
        "id": "QcpMGCriDSzS",
        "colab_type": "code",
        "colab": {
          "autoexec": {
            "startup": false,
            "wait_interval": 0
          }
        }
      },
      "cell_type": "code",
      "source": [
        "X = np.array([[0,0], [0,1], [1,0], [1,1]])\n",
        "y = np.array([ [0],   [1],   [1],   [0]])"
      ],
      "execution_count": 0,
      "outputs": []
    },
    {
      "metadata": {
        "id": "PEmHvnZcDgtz",
        "colab_type": "text"
      },
      "cell_type": "markdown",
      "source": [
        "## Setup\n",
        "\n",
        "Let's define our Neural Net structure, learning rate and for how long we're going to train it:"
      ]
    },
    {
      "metadata": {
        "id": "10eLNWYbDUfi",
        "colab_type": "code",
        "colab": {
          "autoexec": {
            "startup": false,
            "wait_interval": 0
          }
        }
      },
      "cell_type": "code",
      "source": [
        "epochs = 50000\n",
        "input_size, hidden_size, output_size = 2, 3, 1\n",
        "learning_rate = 0.1"
      ],
      "execution_count": 0,
      "outputs": []
    },
    {
      "metadata": {
        "id": "wPm7AwlCEBpI",
        "colab_type": "text"
      },
      "cell_type": "markdown",
      "source": [
        "## Weight Initialization\n",
        "\n",
        "We will initialize the weight of our NN using small random numbers:"
      ]
    },
    {
      "metadata": {
        "id": "NeSEZnwSDfy6",
        "colab_type": "code",
        "colab": {
          "autoexec": {
            "startup": false,
            "wait_interval": 0
          }
        }
      },
      "cell_type": "code",
      "source": [
        "w_hidden = np.random.uniform(size=(input_size, hidden_size))\n",
        "w_output = np.random.uniform(size=(hidden_size, output_size))"
      ],
      "execution_count": 0,
      "outputs": []
    },
    {
      "metadata": {
        "id": "TVpP49-iPR2n",
        "colab_type": "text"
      },
      "cell_type": "markdown",
      "source": [
        "## Training\n",
        "\n",
        "Finally, it is time to implement the **Backpropagation** algorithm:\n",
        "\n",
        "### Forward pass"
      ]
    },
    {
      "metadata": {
        "id": "oIXiGvG3QgPR",
        "colab_type": "code",
        "colab": {
          "autoexec": {
            "startup": false,
            "wait_interval": 0
          }
        }
      },
      "cell_type": "code",
      "source": [
        "def forward(X):\n",
        "  global w_hidden, w_output\n",
        "  act_hidden = sigmoid(np.dot(X, w_hidden))\n",
        "  output = np.dot(act_hidden, w_output)\n",
        "  return act_hidden, output"
      ],
      "execution_count": 0,
      "outputs": []
    },
    {
      "metadata": {
        "id": "CJ3bUONQReOg",
        "colab_type": "text"
      },
      "cell_type": "markdown",
      "source": [
        "### Loss function\n",
        "\n",
        "Our loss function will simply subtract the predicted label from the true one:"
      ]
    },
    {
      "metadata": {
        "id": "CaESd8OSRpjJ",
        "colab_type": "code",
        "colab": {
          "autoexec": {
            "startup": false,
            "wait_interval": 0
          }
        }
      },
      "cell_type": "code",
      "source": [
        "def criterion(y_hat, y):\n",
        "  return y - y_hat"
      ],
      "execution_count": 0,
      "outputs": []
    },
    {
      "metadata": {
        "id": "LR-XRDNzSPBb",
        "colab_type": "text"
      },
      "cell_type": "markdown",
      "source": [
        "### Backward\n",
        "\n",
        "We will adjust our weight matrices using the `learning_rate` and the computed loss. It is time to use those derivates:"
      ]
    },
    {
      "metadata": {
        "id": "ry3t09NFShIg",
        "colab_type": "code",
        "colab": {
          "autoexec": {
            "startup": false,
            "wait_interval": 0
          }
        }
      },
      "cell_type": "code",
      "source": [
        "def backward(loss, act_hidden):\n",
        "  global w_hidden, w_output\n",
        "  dZ = learning_rate * loss\n",
        "  w_output += act_hidden.T.dot(dZ)\n",
        "  dH = dZ.dot(w_output.T) * sigmoid_prime(act_hidden)\n",
        "  w_hidden += X.T.dot(dH)"
      ],
      "execution_count": 0,
      "outputs": []
    },
    {
      "metadata": {
        "id": "rAlBV9wsTktu",
        "colab_type": "text"
      },
      "cell_type": "markdown",
      "source": [
        "### Backpropagation\n",
        "\n",
        "We can now train our model via the Backpropagation algorihm using all of the defined functions:"
      ]
    },
    {
      "metadata": {
        "id": "NJs5D6T_EIHt",
        "colab_type": "code",
        "colab": {
          "autoexec": {
            "startup": false,
            "wait_interval": 0
          },
          "output_extras": [
            {
              "item_id": 4
            }
          ],
          "base_uri": "https://localhost:8080/",
          "height": 197
        },
        "outputId": "e59853f1-2fe0-441a-c6b8-70effd26e717",
        "executionInfo": {
          "status": "ok",
          "timestamp": 1520290221176,
          "user_tz": -120,
          "elapsed": 1370,
          "user": {
            "displayName": "Venelin Valkov",
            "photoUrl": "https://lh3.googleusercontent.com/a/default-user=s128",
            "userId": "102036666270843493239"
          }
        }
      },
      "cell_type": "code",
      "source": [
        "for epoch in range(epochs):\n",
        "    \n",
        "    act_hidden, output = forward(X)\n",
        "    \n",
        "    loss = criterion(output, y)\n",
        "\n",
        "    backward(loss, act_hidden)\n",
        "    \n",
        "    if epoch % 5000 == 0:\n",
        "        print(f'epoch {epoch}: error {np.mean(loss)}')"
      ],
      "execution_count": 51,
      "outputs": [
        {
          "output_type": "stream",
          "text": [
            "epoch 0: error -1.120939519084787\n",
            "epoch 5000: error 0.0034969303727671597\n",
            "epoch 10000: error 0.0032220258239296085\n",
            "epoch 15000: error 0.0011765890208035867\n",
            "epoch 20000: error 0.006360826604508582\n",
            "epoch 25000: error 0.006688079000392866\n",
            "epoch 30000: error 4.918077839530591e-05\n",
            "epoch 35000: error 3.134363008722163e-09\n",
            "epoch 40000: error 1.9970136655445003e-13\n",
            "epoch 45000: error -2.7755575615628914e-17\n"
          ],
          "name": "stdout"
        }
      ]
    },
    {
      "metadata": {
        "id": "SiCokXt7WPQx",
        "colab_type": "text"
      },
      "cell_type": "markdown",
      "source": [
        "## Prediction\n",
        "\n",
        "Our error seems to be decreasing! Let's try to use our trained model for prediction, doing just a forward step:"
      ]
    },
    {
      "metadata": {
        "id": "kB8-jaf2WjwP",
        "colab_type": "code",
        "colab": {
          "autoexec": {
            "startup": false,
            "wait_interval": 0
          },
          "output_extras": [
            {
              "item_id": 1
            }
          ],
          "base_uri": "https://localhost:8080/",
          "height": 35
        },
        "outputId": "4c919296-39f6-40e4-c7bd-a65e879afdd5",
        "executionInfo": {
          "status": "ok",
          "timestamp": 1520290225668,
          "user_tz": -120,
          "elapsed": 455,
          "user": {
            "displayName": "Venelin Valkov",
            "photoUrl": "https://lh3.googleusercontent.com/a/default-user=s128",
            "userId": "102036666270843493239"
          }
        }
      },
      "cell_type": "code",
      "source": [
        "X_test = X[1] # [0, 1]\n",
        "\n",
        "act_hidden = sigmoid(np.dot(X_test, w_hidden))\n",
        "np.dot(act_hidden, w_output)"
      ],
      "execution_count": 52,
      "outputs": [
        {
          "output_type": "execute_result",
          "data": {
            "text/plain": [
              "array([1.])"
            ]
          },
          "metadata": {
            "tags": []
          },
          "execution_count": 52
        }
      ]
    },
    {
      "metadata": {
        "id": "jp0OCCbqWtnm",
        "colab_type": "text"
      },
      "cell_type": "markdown",
      "source": [
        "Hmm, that seems correct!"
      ]
    }
  ]
}